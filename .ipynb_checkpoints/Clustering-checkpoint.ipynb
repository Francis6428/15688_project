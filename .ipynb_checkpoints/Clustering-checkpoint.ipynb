{
 "cells": [
  {
   "cell_type": "code",
   "execution_count": 5,
   "metadata": {},
   "outputs": [],
   "source": [
    "import numpy as np\n",
    "from sklearn.cluster import KMeans\n",
    "from sklearn.decomposition import PCA\n",
    "from FastMap import FastMap, show_cluster, distance\n",
    "from sklearn.metrics.pairwise import euclidean_distances\n",
    "from sklearn.preprocessing import normalize"
   ]
  },
  {
   "cell_type": "code",
   "execution_count": 6,
   "metadata": {
    "collapsed": true
   },
   "outputs": [],
   "source": [
    "data = np.load('vec_data.npz')"
   ]
  },
  {
   "cell_type": "code",
   "execution_count": 7,
   "metadata": {},
   "outputs": [],
   "source": [
    "vectors = []\n",
    "labels = []\n",
    "names = []\n",
    "\n",
    "for idx, label in enumerate(data):\n",
    "    univ = data[label][()]\n",
    "    for name in univ:\n",
    "        vectors.append(univ[name])\n",
    "        labels.append(idx)\n",
    "        names.append(name)\n",
    "        \n",
    "vectors = np.asarray(vectors)\n",
    "vectors = normalize(vectors)"
   ]
  },
  {
   "cell_type": "code",
   "execution_count": null,
   "metadata": {},
   "outputs": [],
   "source": [
    "d = 2\n",
    "k = 5\n",
    "kmeans = KMeans(n_clusters=k, random_state=0).fit(vectors)\n",
    "pca = PCA(n_components=d)\n",
    "pca.fit(vectors.T)\n",
    "dist = euclidean_distances(vectors, vectors)\n",
    "X2, PA2 = FastMap(d, dist, vectors.shape[0])\n",
    "show_cluster(pca.components_.T, kmeans.labels_, d)\n",
    "show_cluster(pca.components_.T, labels, d)"
   ]
  },
  {
   "cell_type": "code",
   "execution_count": 15,
   "metadata": {},
   "outputs": [
    {
     "name": "stdout",
     "output_type": "stream",
     "text": [
      "Anthony_Kiedis\n",
      "Al_Gore\n",
      "Ted_Stevens\n",
      "John_Cage\n",
      "Jayne_Mansfield\n",
      "Bertrand_Russell\n",
      "[[   8.  241.    1.    0.   49.]\n",
      " [  40.  369.    6.    0.  151.]\n",
      " [  36.  573.   16.    1.  182.]\n",
      " [ 118.  737.   43.   16.  325.]\n",
      " [   8.   78.    0.    0.   23.]]\n"
     ]
    }
   ],
   "source": [
    "count = np.zeros((5, k))\n",
    "for (idx, (univ, clst)) in enumerate(zip(labels, kmeans.labels_)):\n",
    "    count[univ][clst] += 1\n",
    "    \n",
    "print(count)"
   ]
  },
  {
   "cell_type": "code",
   "execution_count": null,
   "metadata": {
    "collapsed": true
   },
   "outputs": [],
   "source": []
  }
 ],
 "metadata": {
  "kernelspec": {
   "display_name": "Python 3",
   "language": "python",
   "name": "python3"
  },
  "language_info": {
   "codemirror_mode": {
    "name": "ipython",
    "version": 3
   },
   "file_extension": ".py",
   "mimetype": "text/x-python",
   "name": "python",
   "nbconvert_exporter": "python",
   "pygments_lexer": "ipython3",
   "version": "3.6.3"
  }
 },
 "nbformat": 4,
 "nbformat_minor": 2
}
