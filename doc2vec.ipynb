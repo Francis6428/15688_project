{
 "cells": [
  {
   "cell_type": "code",
   "execution_count": 1,
   "metadata": {},
   "outputs": [],
   "source": [
    "def tokenization(text):\n",
    "    \"\"\"\n",
    "    This function takes a a string of text. Then tokenize it.\n",
    "    \n",
    "    Args:\n",
    "        text: a text string\n",
    "    Returns:\n",
    "        a list of tokens(words)\n",
    "    \"\"\"\n",
    "    stpwords = stopwords.words('english')\n",
    "    text = text.lower()\n",
    "    proc = ''\n",
    "    i = 0\n",
    "    while i < len(text):\n",
    "        c = text[i]\n",
    "        #remove punctuation\n",
    "        if c not in string.punctuation:\n",
    "            proc+=c\n",
    "        elif c == \"'\":\n",
    "            if i == (len(text)-1):\n",
    "                break\n",
    "            if text[i+1] == 's' and (i+2) == len(text):\n",
    "                break\n",
    "            if text[i+1] == 's' and text[i+2] == ' ':\n",
    "                i+=1\n",
    "        else:\n",
    "            proc+=' '\n",
    "        i+=1  \n",
    "    #tokenization by nltk\n",
    "    tokens = nltk.word_tokenize(proc)\n",
    "    #remove stop words in tokens\n",
    "    result = []\n",
    "    for word in tokens:\n",
    "        if word not in stpwords:\n",
    "            result.append(word)\n",
    "    return result"
   ]
  },
  {
   "cell_type": "code",
   "execution_count": null,
   "metadata": {},
   "outputs": [],
   "source": [
    "data "
   ]
  }
 ],
 "metadata": {
  "kernelspec": {
   "display_name": "Python 3",
   "language": "python",
   "name": "python3"
  },
  "language_info": {
   "codemirror_mode": {
    "name": "ipython",
    "version": 3
   },
   "file_extension": ".py",
   "mimetype": "text/x-python",
   "name": "python",
   "nbconvert_exporter": "python",
   "pygments_lexer": "ipython3",
   "version": "3.6.4"
  }
 },
 "nbformat": 4,
 "nbformat_minor": 2
}
