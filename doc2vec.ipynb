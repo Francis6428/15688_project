{
 "cells": [
  {
   "cell_type": "code",
   "execution_count": 1,
   "metadata": {},
   "outputs": [
    {
     "name": "stderr",
     "output_type": "stream",
     "text": [
      "C:\\Users\\yizho\\AppData\\Local\\Continuum\\anaconda3\\lib\\site-packages\\gensim\\utils.py:1197: UserWarning: detected Windows; aliasing chunkize to chunkize_serial\n",
      "  warnings.warn(\"detected Windows; aliasing chunkize to chunkize_serial\")\n"
     ]
    }
   ],
   "source": [
    "import json\n",
    "import gensim\n",
    "import nltk\n",
    "import string\n",
    "import scipy\n",
    "from nltk.corpus import stopwords\n",
    "#from tqdm import tqdm"
   ]
  },
  {
   "cell_type": "code",
   "execution_count": 2,
   "metadata": {},
   "outputs": [
    {
     "name": "stdout",
     "output_type": "stream",
     "text": [
      "[nltk_data] Downloading package punkt to\n",
      "[nltk_data]     C:\\Users\\yizho\\AppData\\Roaming\\nltk_data...\n",
      "[nltk_data]   Unzipping tokenizers\\punkt.zip.\n"
     ]
    },
    {
     "data": {
      "text/plain": [
       "True"
      ]
     },
     "execution_count": 2,
     "metadata": {},
     "output_type": "execute_result"
    }
   ],
   "source": [
    "nltk.download('punkt')"
   ]
  },
  {
   "cell_type": "code",
   "execution_count": 4,
   "metadata": {},
   "outputs": [
    {
     "name": "stdout",
     "output_type": "stream",
     "text": [
      "Kathleen M. Carley is an American social scientist specializing in dynamic network analysis. She is a professor in the School of Computer Science in the Institute for Software Research International at Carnegie Mellon University and also holds appointments in the Tepper School of Business, the Heinz College, the Department of Engineering and Public Policy, and the Department of Social and Decision Sciences.Kathleen Carley was born in Pueblo, Colorado in 1956. At High School her interest in social modeling was inspired by Isaac Asimov's Foundation series. Artificial intelligence was not a career path at that time and she was dissuaded from studying Mathematics because of gender stereotyping. Instead she studied for an S.B. in Economics and an S.B. in Political Science from the Massachusetts Institute of Technology in 1978. She received her Ph.D. in Sociology from Harvard University in 1984. Her Ph.D. advisor was Harrison White and her thesis was entitled Consensus Construction.On leaving Harvard in 1984, Carley secured a position as Associate Professor of Sociology and Information Systems at Carnegie Mellon University where she remains based. In 1990 she became Associate Professor of Sociology and Organizations, in 1998 Professor of Sociology, Organizations and IT, and in 2002 attained her current role as Professor of Computation, Organization and Society. Since 1998 she has also held appointments in other CMU schools and departments; the Department of Social and Decision Sciences, Heinz College, Tepper School of Business and Department of Engineering and Public Policy.Carley's research combines cognitive science, sociology and computer science to address complex social and organizational problems. Her most notable research contribution was the establishment of Dynamic network analysis . In addition, she has also contributed to research on computational social and organization theory, adaptation and evolution, text mining, and the impact of telecommunication technologies and policy on communication, information diffusion, disease contagion and response within and among groups particularly in disaster or crisis situations, and dynamic network methods.She is the director of the Center for Computational Analysis of Social and Organizational Systems .Carley is the founding co-editor, and co-editor-in-chief of the journal Computational and Mathematical Organization Theory. She has co-edited several books in the computational organizations and dynamic network area.Carley, Kathleen M.; Prietula, MJ . Lawrence Erlbaum. ISBN 0-8058-1406-X. Retrieved 2011-04-08.Carley, Kathleen M.\n"
     ]
    }
   ],
   "source": [
    "\n",
    "data = json.load(open('data.json'))\n",
    "\n",
    "print(data['CMU']['Kathleen_Carley'])"
   ]
  },
  {
   "cell_type": "code",
   "execution_count": 5,
   "metadata": {},
   "outputs": [],
   "source": [
    "def tokenization(text):\n",
    "    \"\"\"\n",
    "    This function takes a a string of text. Then tokenize it.\n",
    "    \n",
    "    Args:\n",
    "        text: a text string\n",
    "    Returns:\n",
    "        a list of tokens(words)\n",
    "    \"\"\"\n",
    "    stpwords = stopwords.words('english')\n",
    "    text = text.lower()\n",
    "    proc = ''\n",
    "    i = 0\n",
    "    while i < len(text):\n",
    "        c = text[i]\n",
    "        #remove punctuation\n",
    "        if c not in string.punctuation:\n",
    "            proc+=c\n",
    "        elif c == \"'\":\n",
    "            if i == (len(text)-1):\n",
    "                break\n",
    "            if text[i+1] == 's' and (i+2) == len(text):\n",
    "                break\n",
    "            if text[i+1] == 's' and text[i+2] == ' ':\n",
    "                i+=1\n",
    "        else:\n",
    "            proc+=' '\n",
    "        i+=1  \n",
    "    #tokenization by nltk\n",
    "    tokens = nltk.word_tokenize(proc)\n",
    "    #remove stop words in tokens\n",
    "    result = []\n",
    "    for word in tokens:\n",
    "        if word not in stpwords:\n",
    "            result.append(word)\n",
    "    return result"
   ]
  },
  {
   "cell_type": "code",
   "execution_count": 6,
   "metadata": {},
   "outputs": [],
   "source": [
    "processed_data = {}\n",
    "for school in data.keys():\n",
    "    processed_data[school] = {}\n",
    "    for person in data[school].keys():\n",
    "        processed_data[school][person] = tokenization(data[school][person])\n",
    "\n",
    "        "
   ]
  },
  {
   "cell_type": "code",
   "execution_count": 9,
   "metadata": {},
   "outputs": [],
   "source": [
    "with open('processed_data.json', 'w') as fp:\n",
    "    json.dump(processed_data, fp)"
   ]
  },
  {
   "cell_type": "code",
   "execution_count": null,
   "metadata": {},
   "outputs": [],
   "source": []
  }
 ],
 "metadata": {
  "kernelspec": {
   "display_name": "Python 3",
   "language": "python",
   "name": "python3"
  },
  "language_info": {
   "codemirror_mode": {
    "name": "ipython",
    "version": 3
   },
   "file_extension": ".py",
   "mimetype": "text/x-python",
   "name": "python",
   "nbconvert_exporter": "python",
   "pygments_lexer": "ipython3",
   "version": "3.6.4"
  }
 },
 "nbformat": 4,
 "nbformat_minor": 2
}
