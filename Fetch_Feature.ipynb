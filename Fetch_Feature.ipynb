{
 "cells": [
  {
   "cell_type": "code",
   "execution_count": 13,
   "metadata": {
    "collapsed": true
   },
   "outputs": [],
   "source": [
    "import json\n",
    "import gensim\n",
    "import nltk\n",
    "import string\n",
    "import scipy\n",
    "from nltk.corpus import stopwords\n",
    "import numpy as np\n",
    "from collections import Counter"
   ]
  },
  {
   "cell_type": "code",
   "execution_count": 2,
   "metadata": {
    "collapsed": true
   },
   "outputs": [],
   "source": [
    "clusters = json.load(open('cluster.json'))"
   ]
  },
  {
   "cell_type": "code",
   "execution_count": 4,
   "metadata": {
    "collapsed": true
   },
   "outputs": [],
   "source": [
    "tokens = json.load(open('tokenized_data.json'))"
   ]
  },
  {
   "cell_type": "code",
   "execution_count": 10,
   "metadata": {},
   "outputs": [],
   "source": [
    "cluster_token={}\n",
    "for cluster_id in clusters.keys():\n",
    "    cluster_token[cluster_id] = {}\n",
    "    for name in clusters[cluster_id]:\n",
    "        for school in tokens.keys():\n",
    "            if name in tokens[school].keys():\n",
    "                cluster_token[cluster_id][name] = tokens[school][name]\n",
    "                break\n"
   ]
  },
  {
   "cell_type": "code",
   "execution_count": 22,
   "metadata": {},
   "outputs": [
    {
     "name": "stdout",
     "output_type": "stream",
     "text": [
      "0\n",
      "[('film', 3344), ('also', 2367), ('new', 2100), ('first', 1818), ('series', 1693), ('music', 1618), ('album', 1491), ('one', 1489), ('role', 1403), ('award', 1288), ('show', 1268), ('two', 1241), ('american', 1181), ('released', 1152), ('school', 1132), ('york', 1132), ('television', 1086), ('time', 1072), ('appeared', 1059), ('best', 1000), ('year', 967), ('university', 934), ('work', 932), ('later', 924), ('played', 911), ('years', 894), ('band', 855), ('made', 840), ('including', 818), ('los', 795), ('angeles', 789), ('received', 756), ('films', 741), ('would', 720), ('starred', 713), ('co', 708), ('born', 703), ('three', 698), ('wrote', 690), ('song', 690), ('california', 684), ('became', 681), ('episode', 654), ('began', 651), ('art', 645), ('life', 637), ('said', 629), ('high', 620), ('world', 614), ('john', 607), ('well', 603), ('star', 597), ('actor', 596), ('drama', 586), ('college', 582), ('city', 576), ('2010', 573), ('production', 573), ('2011', 570), ('career', 568), ('2012', 568), ('book', 566), ('comedy', 558), ('several', 554), ('awards', 551), ('family', 549), ('musical', 548), ('director', 547), ('performance', 544), ('season', 544), ('directed', 539), ('second', 530), ('father', 529), ('2013', 527), ('performed', 523), ('character', 518), ('many', 513), ('jazz', 512), ('known', 510), ('early', 495), ('movie', 493), ('part', 490), ('play', 489), ('2014', 488), ('2009', 487), ('2007', 487), ('live', 482), ('songs', 482), ('worked', 470), ('festival', 469), ('2008', 467), ('love', 463), ('produced', 463), ('producer', 463), ('may', 461), ('actress', 457), ('married', 457), ('called', 457), ('cast', 456), ('2016', 454)]\n",
      "1\n",
      "[('served', 1447), ('university', 1251), ('united', 1156), ('states', 1102), ('law', 912), ('president', 910), ('new', 905), ('school', 887), ('massachusetts', 887), ('state', 864), ('member', 764), ('harvard', 709), ('california', 678), ('elected', 675), ('american', 667), ('house', 623), ('born', 591), ('republican', 581), ('first', 580), ('u', 579), ('also', 575), ('district', 565), ('court', 558), ('congress', 526), ('governor', 504), ('senate', 503), ('election', 474), ('became', 444), ('graduated', 440), ('war', 435), ('died', 429), ('john', 411), ('york', 408), ('college', 404), ('national', 382), ('one', 376), ('general', 376), ('appointed', 364), ('married', 362), ('city', 361), ('two', 356), ('democratic', 353), ('public', 344), ('later', 343), ('received', 339), ('years', 336), ('board', 334), ('representatives', 332), ('committee', 323), ('judge', 316), ('former', 315), ('stanford', 315), ('secretary', 313), ('county', 310), ('attended', 308), ('year', 305), ('march', 294), ('chairman', 287), ('boston', 285), ('son', 278), ('january', 276), ('practice', 276), ('time', 275), ('los', 273), ('father', 273), ('degree', 273), ('kennedy', 269), ('angeles', 267), ('william', 266), ('office', 264), ('washington', 253), ('death', 250), ('family', 250), ('party', 247), ('senator', 246), ('term', 244), ('attorney', 239), ('representative', 235), ('candidate', 235), ('children', 231), ('justice', 228), ('november', 224), ('chief', 223), ('serving', 219), ('cemetery', 219), ('world', 218), ('three', 214), ('bar', 214), ('robert', 212), ('june', 211), ('george', 210), ('company', 209), ('would', 208), ('second', 204), ('high', 203), ('political', 203), ('july', 198), ('may', 198), ('december', 196), ('wife', 195)]\n",
      "2\n",
      "[('university', 3733), ('research', 1797), ('also', 1774), ('science', 1570), ('work', 1511), ('professor', 1489), ('american', 1349), ('first', 1300), ('school', 1261), ('one', 1258), ('new', 1208), ('stanford', 1036), ('received', 1011), ('theory', 997), ('harvard', 870), ('national', 867), ('computer', 866), ('time', 834), ('became', 811), ('institute', 792), ('award', 778), ('engineering', 767), ('california', 762), ('years', 758), ('prize', 737), ('two', 716), ('published', 711), ('president', 693), ('college', 683), ('sciences', 658), ('technology', 647), ('society', 636), ('world', 634), ('many', 628), ('known', 610), ('member', 607), ('later', 603), ('academy', 603), ('book', 592), ('born', 588), ('including', 576), ('development', 566), ('year', 563), ('high', 558), ('degree', 553), ('physics', 549), ('would', 549), ('social', 547), ('awarded', 544), ('served', 543), ('department', 540), ('fellow', 537), ('co', 530), ('study', 529), ('worked', 519), ('used', 491), ('studies', 490), ('states', 489), ('’', 467), ('well', 467), ('students', 462), ('several', 459), ('nobel', 458), ('economics', 454), ('early', 452), ('mathematics', 449), ('chemistry', 441), ('united', 441), ('board', 440), ('history', 431), ('center', 423), ('scientific', 421), ('developed', 419), ('york', 418), ('ph', 413), ('made', 411), ('director', 405), ('graduate', 403), ('based', 401), ('field', 400), ('program', 400), ('could', 399), ('system', 396), ('three', 394), ('since', 389), ('education', 389), ('life', 388), ('company', 383), ('faculty', 381), ('public', 378), ('laboratory', 376), ('contributions', 374), ('human', 369), ('economic', 369), ('john', 367), ('group', 366), ('began', 364), ('psychology', 361), ('language', 357), ('design', 355)]\n",
      "3\n",
      "[('team', 1759), ('first', 1295), ('season', 1212), ('coach', 942), ('year', 930), ('game', 899), ('ucla', 860), ('time', 785), ('also', 784), ('world', 754), ('points', 743), ('basketball', 734), ('school', 695), ('record', 657), ('american', 651), ('high', 640), ('player', 636), ('two', 630), ('championships', 629), ('nba', 613), ('games', 612), ('national', 599), ('career', 577), ('three', 574), ('university', 557), ('second', 553), ('played', 545), ('ncaa', 511), ('new', 510), ('olympic', 509), ('one', 500), ('win', 498), ('named', 489), ('years', 455), ('final', 442), ('championship', 438), ('medal', 429), ('olympics', 420), ('10', 416), ('head', 407), ('1', 406), ('california', 404), ('state', 400), ('gold', 399), ('college', 395), ('four', 391), ('stanford', 344), ('meter', 335), ('would', 333), ('finished', 331), ('u', 329), ('tournament', 327), ('2012', 322), ('women', 319), ('became', 316), ('title', 307), ('2', 306), ('later', 304), ('winning', 301), ('3', 300), ('lin', 293), ('league', 291), ('los', 285), ('tennis', 285), ('bruins', 284), ('angeles', 281), ('4', 278), ('around', 273), ('rebounds', 272), ('2008', 271), ('made', 269), ('third', 266), ('play', 265), ('hall', 261), ('sports', 259), ('summer', 257), ('12', 256), ('conference', 255), ('5', 252), ('competed', 251), ('united', 250), ('usa', 249), ('scored', 246), ('competition', 246), ('freestyle', 241), ('players', 240), ('men', 239), ('100', 238), ('former', 237), ('event', 235), ('point', 234), ('five', 232), ('junior', 232), ('finals', 231), ('assists', 231), ('6', 227), ('since', 226), ('round', 226), ('8', 226), ('led', 223)]\n",
      "4\n",
      "[('president', 4513), ('new', 4072), ('also', 3955), ('would', 3771), ('first', 3513), ('state', 3493), ('states', 3417), ('united', 3388), ('one', 3182), ('university', 2979), ('u', 2879), ('law', 2786), ('american', 2772), ('school', 2727), ('election', 2556), ('government', 2499), ('time', 2352), ('two', 2290), ('national', 2237), ('public', 2232), ('years', 2193), ('court', 2193), ('said', 2178), ('served', 2139), ('war', 2114), ('became', 2089), ('later', 2037), ('party', 2006), ('senate', 1983), ('political', 1955), ('year', 1938), ('republican', 1928), ('general', 1908), ('house', 1849), ('kennedy', 1766), ('campaign', 1762), ('member', 1694), ('harvard', 1694), ('office', 1682), ('democratic', 1642), ('city', 1592), ('world', 1590), ('committee', 1585), ('york', 1580), ('governor', 1526), ('federal', 1519), ('bush', 1488), ('act', 1443), ('john', 1430), ('made', 1410), ('administration', 1408), ('former', 1404), ('support', 1384), ('including', 1379), ('many', 1372), ('million', 1365), ('received', 1355), ('secretary', 1353), ('people', 1340), ('policy', 1318), ('congress', 1315), ('may', 1311), ('elected', 1300), ('obama', 1254), ('board', 1244), ('family', 1236), ('presidential', 1233), ('vote', 1230), ('district', 1196), ('work', 1195), ('’', 1189), ('january', 1182), ('california', 1182), ('term', 1181), ('washington', 1179), ('international', 1173), ('massachusetts', 1172), ('2008', 1163), ('well', 1159), ('called', 1150), ('bill', 1147), ('three', 1132), ('justice', 1121), ('senator', 1110), ('following', 1105), ('november', 1098), ('rights', 1094), ('september', 1086), ('wrote', 1085), ('business', 1070), ('college', 1061), ('announced', 1061), ('several', 1057), ('high', 1054), ('000', 1041), ('1', 1038), ('department', 1038), ('however', 1037), ('2009', 1036), ('military', 1036)]\n"
     ]
    }
   ],
   "source": [
    "word_frequency = {}\n",
    "\n",
    "for key, value in cluster_token.items():\n",
    "    all_words = []\n",
    "    for name, tokens in value.items():\n",
    "        all_words.extend(tokens)\n",
    "    word_frequency[key] = Counter(all_words)\n",
    "    print(key)\n",
    "    print(word_frequency[key].most_common(100))\n",
    " \n"
   ]
  },
  {
   "cell_type": "code",
   "execution_count": 30,
   "metadata": {},
   "outputs": [],
   "source": [
    "not_freq = {}\n",
    "for c_id in cluster_token.keys():\n",
    "    not_freq[c_id]=[]\n",
    "    count = {}\n",
    "    for name in cluster_token[c_id].keys():\n",
    "        occur = {}\n",
    "        for word in cluster_token[c_id][name]:\n",
    "            if word not in count.keys():\n",
    "                count[word] = 0\n",
    "            if word not in occur.keys():\n",
    "                occur[word] = 1\n",
    "                count[word] += 1\n",
    "    s = len(cluster_token[c_id].keys())\n",
    "    for key in count.keys():\n",
    "        #if count[key] > 300:\n",
    "           # print(key, count[key], s)\n",
    "        if count[key] < (s/5):\n",
    "            not_freq[c_id].append(key)\n",
    "  "
   ]
  },
  {
   "cell_type": "code",
   "execution_count": 18,
   "metadata": {},
   "outputs": [
    {
     "name": "stdout",
     "output_type": "stream",
     "text": [
      "[('research', 1797), ('also', 1774), ('science', 1570), ('work', 1511), ('professor', 1489), ('american', 1349), ('first', 1300), ('school', 1261), ('one', 1258), ('new', 1208)]\n",
      "[('research', 1797), ('also', 1774), ('science', 1570), ('work', 1511), ('professor', 1489), ('american', 1349), ('first', 1300), ('school', 1261), ('one', 1258), ('new', 1208)]\n"
     ]
    }
   ],
   "source": []
  },
  {
   "cell_type": "code",
   "execution_count": 31,
   "metadata": {
    "collapsed": true
   },
   "outputs": [],
   "source": [
    "#delete in frequent word\n",
    "for key in word_frequency.keys():\n",
    "    for word in not_freq[key]:\n",
    "        del word_frequency[key][word]"
   ]
  },
  {
   "cell_type": "code",
   "execution_count": 33,
   "metadata": {},
   "outputs": [
    {
     "name": "stdout",
     "output_type": "stream",
     "text": [
      "0\n",
      "[('film', 3344), ('also', 2367), ('new', 2100), ('first', 1818), ('series', 1693), ('music', 1618), ('album', 1491), ('one', 1489), ('role', 1403), ('award', 1288), ('show', 1268), ('two', 1241), ('american', 1181), ('released', 1152), ('school', 1132), ('york', 1132), ('television', 1086), ('time', 1072), ('appeared', 1059), ('best', 1000)]\n",
      "1\n",
      "[('served', 1447), ('university', 1251), ('united', 1156), ('states', 1102), ('law', 912), ('president', 910), ('new', 905), ('school', 887), ('massachusetts', 887), ('state', 864), ('member', 764), ('harvard', 709), ('california', 678), ('elected', 675), ('american', 667), ('house', 623), ('born', 591), ('republican', 581), ('first', 580), ('u', 579)]\n",
      "2\n",
      "[('university', 3733), ('research', 1797), ('also', 1774), ('science', 1570), ('work', 1511), ('professor', 1489), ('american', 1349), ('first', 1300), ('school', 1261), ('one', 1258), ('new', 1208), ('stanford', 1036), ('received', 1011), ('theory', 997), ('harvard', 870), ('national', 867), ('computer', 866), ('time', 834), ('became', 811), ('institute', 792)]\n",
      "3\n",
      "[('team', 1759), ('first', 1295), ('season', 1212), ('coach', 942), ('year', 930), ('game', 899), ('ucla', 860), ('time', 785), ('also', 784), ('world', 754), ('points', 743), ('basketball', 734), ('school', 695), ('record', 657), ('american', 651), ('high', 640), ('player', 636), ('two', 630), ('championships', 629), ('nba', 613)]\n",
      "4\n",
      "[('president', 4513), ('new', 4072), ('also', 3955), ('would', 3771), ('first', 3513), ('state', 3493), ('states', 3417), ('united', 3388), ('one', 3182), ('university', 2979), ('u', 2879), ('law', 2786), ('american', 2772), ('school', 2727), ('election', 2556), ('government', 2499), ('time', 2352), ('two', 2290), ('national', 2237), ('public', 2232)]\n"
     ]
    }
   ],
   "source": [
    "for key in word_frequency.keys():\n",
    "    print(key)\n",
    "    print(word_frequency[key].most_common(20))"
   ]
  },
  {
   "cell_type": "code",
   "execution_count": null,
   "metadata": {
    "collapsed": true
   },
   "outputs": [],
   "source": []
  }
 ],
 "metadata": {
  "kernelspec": {
   "display_name": "Python 3",
   "language": "python",
   "name": "python3"
  },
  "language_info": {
   "codemirror_mode": {
    "name": "ipython",
    "version": 3
   },
   "file_extension": ".py",
   "mimetype": "text/x-python",
   "name": "python",
   "nbconvert_exporter": "python",
   "pygments_lexer": "ipython3",
   "version": "3.6.3"
  }
 },
 "nbformat": 4,
 "nbformat_minor": 2
}
