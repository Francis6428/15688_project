{
 "cells": [
  {
   "cell_type": "code",
   "execution_count": 37,
   "metadata": {
    "collapsed": true
   },
   "outputs": [],
   "source": [
    "import json\n",
    "import requests\n",
    "import numpy as np\n",
    "import time, datetime\n",
    "from tqdm import tqdm"
   ]
  },
  {
   "cell_type": "code",
   "execution_count": 47,
   "metadata": {
    "collapsed": true
   },
   "outputs": [],
   "source": [
    "universities = dict()\n",
    "universities['CMU'] = \"Category:Carnegie_Mellon_University_alumni\"\n",
    "universities['Stanford'] = \"Category:Stanford_University_alumni\"\n",
    "universities['Harvard'] = \"Category:Harvard_University_alumni\"\n",
    "universities['Yale'] = \"Category:Yale_University_alumni\"\n",
    "universities['UCLA'] = \"Category:University_of_California,_Los_Angeles_alumni\"\n",
    "universities['MIT'] = \"Category:Massachusetts_Institute_of_Technology_alumni\"\n",
    "universities['Pitt'] = \"Category:University_of_Pittsburgh_alumni\""
   ]
  },
  {
   "cell_type": "code",
   "execution_count": 48,
   "metadata": {},
   "outputs": [],
   "source": [
    "def get_members(cat_name, cont=None):\n",
    "    url = 'https://en.wikipedia.org/w/api.php'\n",
    "    params = {\"action\" : 'query', 'format' : 'json', 'list' : 'categorymembers', 'cmlimit' : 500, 'cmprop' : 'title'}\n",
    "    params['cmtitle'] = cat_name\n",
    "    if (cont != None):\n",
    "        params['cmcontinue'] = cont\n",
    "    response = requests.get(url, params=params)\n",
    "    ret_val = []\n",
    "    data = json.loads(response.text)\n",
    "    if ('continue' in data):\n",
    "        ret_val = get_members(cat_name, cont=data['continue']['cmcontinue'])\n",
    "    ret_val += [x['title'] for x in data['query']['categorymembers']]\n",
    "    return ret_val\n",
    "def get_all_subcategories(cat_name, cont=None):\n",
    "    url = 'https://en.wikipedia.org/w/api.php'\n",
    "    params = {\"action\" : 'query', 'format' : 'json', 'list' : 'categorymembers', 'cmlimit' : 500, 'cmtype' : 'subcat'}\n",
    "    params['cmtitle'] = cat_name\n",
    "    if (cont != None):\n",
    "        params['cmcontinue'] = cont\n",
    "    response = requests.get(url, params=params)\n",
    "    ret_val = []\n",
    "    data = json.loads(response.text)\n",
    "    if ('continue' in data):\n",
    "        ret_val = get_all_subcategories(cat_name, cont=data['continue']['cmcontinue'])\n",
    "    ret_val += [x['title'] for x in data['query']['categorymembers']]\n",
    "    return ret_val\n",
    "def get_all_members(cat_name):\n",
    "    subcategories = get_all_subcategories(cat_name)\n",
    "    ret_val = []\n",
    "    for subcat in subcategories:\n",
    "        ret_val += get_members(subcat)\n",
    "    ret_val += get_members(cat_name)\n",
    "    return list(filter(lambda a: not a.startswith(\"Category:\"), ret_val))\n",
    "def get_info(titles):\n",
    "    url = 'https://en.wikipedia.org/w/api.php'\n",
    "    params = {\"action\" : 'query', 'format' : 'json', 'prop' : 'extracts', 'exintro' : '', 'explaintext' : ''}\n",
    "    params['titles'] = titles\n",
    "    response = requests.get(url, params=params)\n",
    "    data = list(json.loads(response.text)['query']['pages'].values())\n",
    "    ret_val = dict()\n",
    "    for d in data:\n",
    "        if (d['extract'] != \"\"):\n",
    "            ret_val[d['title']] = d['extract']\n",
    "    return ret_val\n",
    "def get_all_info(title_list):\n",
    "    data = dict()\n",
    "    partial_titles = \"\"\n",
    "    for title in tqdm(title_list):\n",
    "        if len(partial_titles + title) < 200:\n",
    "            partial_titles += title + '|'\n",
    "        else:\n",
    "            partial_titles += title\n",
    "            info = get_info(partial_titles)\n",
    "            data = {**data, **info}\n",
    "            partial_titles = \"\"\n",
    "    return data\n",
    "def get_all_data(universities, append=False):\n",
    "    data = dict()\n",
    "    if (append):\n",
    "        with open('data.json', 'r') as f:\n",
    "            data = json.load(f)\n",
    "    for key, value in universities.items():\n",
    "        print(key)\n",
    "        data[key] = get_all_info(get_all_members(value))\n",
    "    with open('data.json', 'w') as fp:\n",
    "        json.dump(data, fp)"
   ]
  },
  {
   "cell_type": "code",
   "execution_count": 49,
   "metadata": {
    "scrolled": true
   },
   "outputs": [
    {
     "name": "stdout",
     "output_type": "stream",
     "text": [
      "CMU\n"
     ]
    },
    {
     "name": "stderr",
     "output_type": "stream",
     "text": [
      "100%|██████████| 801/801 [00:09<00:00, 86.31it/s]\n"
     ]
    },
    {
     "name": "stdout",
     "output_type": "stream",
     "text": [
      "Stanford\n"
     ]
    },
    {
     "name": "stderr",
     "output_type": "stream",
     "text": [
      "100%|██████████| 3865/3865 [00:46<00:00, 82.35it/s]\n"
     ]
    },
    {
     "name": "stdout",
     "output_type": "stream",
     "text": [
      "Harvard\n"
     ]
    },
    {
     "name": "stderr",
     "output_type": "stream",
     "text": [
      "100%|██████████| 19702/19702 [04:31<00:00, 72.68it/s]\n"
     ]
    },
    {
     "name": "stdout",
     "output_type": "stream",
     "text": [
      "Yale\n"
     ]
    },
    {
     "name": "stderr",
     "output_type": "stream",
     "text": [
      "100%|██████████| 7408/7408 [01:38<00:00, 75.57it/s]\n"
     ]
    },
    {
     "name": "stdout",
     "output_type": "stream",
     "text": [
      "UCLA\n"
     ]
    },
    {
     "name": "stderr",
     "output_type": "stream",
     "text": [
      "100%|██████████| 2726/2726 [00:34<00:00, 79.61it/s]\n"
     ]
    },
    {
     "name": "stdout",
     "output_type": "stream",
     "text": [
      "MIT\n"
     ]
    },
    {
     "name": "stderr",
     "output_type": "stream",
     "text": [
      "100%|██████████| 2995/2995 [00:37<00:00, 79.19it/s]\n"
     ]
    },
    {
     "name": "stdout",
     "output_type": "stream",
     "text": [
      "Pitt\n"
     ]
    },
    {
     "name": "stderr",
     "output_type": "stream",
     "text": [
      "100%|██████████| 796/796 [00:10<00:00, 77.38it/s]\n"
     ]
    }
   ],
   "source": [
    "get_all_data(universities)"
   ]
  },
  {
   "cell_type": "code",
   "execution_count": null,
   "metadata": {
    "collapsed": true
   },
   "outputs": [],
   "source": []
  },
  {
   "cell_type": "code",
   "execution_count": null,
   "metadata": {
    "collapsed": true
   },
   "outputs": [],
   "source": []
  }
 ],
 "metadata": {
  "kernelspec": {
   "display_name": "Python 3",
   "language": "python",
   "name": "python3"
  },
  "language_info": {
   "codemirror_mode": {
    "name": "ipython",
    "version": 3
   },
   "file_extension": ".py",
   "mimetype": "text/x-python",
   "name": "python",
   "nbconvert_exporter": "python",
   "pygments_lexer": "ipython3",
   "version": "3.6.3"
  }
 },
 "nbformat": 4,
 "nbformat_minor": 2
}
